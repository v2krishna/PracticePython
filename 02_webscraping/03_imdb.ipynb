{
 "cells": [
  {
   "cell_type": "code",
   "execution_count": 30,
   "metadata": {},
   "outputs": [],
   "source": [
    "import requests\n",
    "from bs4 import BeautifulSoup "
   ]
  },
  {
   "cell_type": "code",
   "execution_count": 31,
   "metadata": {},
   "outputs": [
    {
     "name": "stdout",
     "output_type": "stream",
     "text": [
      "https://www.imdb.com/search/title/?release_date=2017-01-01,2017-12-31&sort=num_votes,desc&start=1&ef_=adv_nxt\n",
      "https://www.imdb.com/search/title/?release_date=2017-01-01,2017-12-31&sort=num_votes,desc&start=51&ef_=adv_nxt\n",
      "https://www.imdb.com/search/title/?release_date=2017-01-01,2017-12-31&sort=num_votes,desc&start=101&ef_=adv_nxt\n",
      "https://www.imdb.com/search/title/?release_date=2017-01-01,2017-12-31&sort=num_votes,desc&start=151&ef_=adv_nxt\n",
      "https://www.imdb.com/search/title/?release_date=2017-01-01,2017-12-31&sort=num_votes,desc&start=201&ef_=adv_nxt\n",
      "https://www.imdb.com/search/title/?release_date=2017-01-01,2017-12-31&sort=num_votes,desc&start=251&ef_=adv_nxt\n"
     ]
    }
   ],
   "source": [
    "names, ratings, metascores, votes, gross = [],[],[],[],[]\n",
    "for i in range (1,301, 50):\n",
    "    #int(i)\n",
    "    url = f\"https://www.imdb.com/search/title/?release_date=2017-01-01,2017-12-31&sort=num_votes,desc&start={i}&ef_=adv_nxt\"\n",
    "    print(url)\n",
    "    for first in movies:\n",
    "        if first.find(class_=\"inline-block ratings-metascore\") != None:\n",
    "            names.append(first.find(class_=\"lister-item-header\").get_text().replace('\\n',''))\n",
    "            ratings.append(first.find(class_=\"inline-block ratings-imdb-rating\").get_text().replace(\"\\n\",''))\n",
    "            metascores.append(first.find(class_=\"inline-block ratings-metascore\").get_text().strip(\"\\n Metascore\"))\n",
    "            if len(first.find(class_=\"sort-num_votes-visible\").get_text().replace(\"\\n\",'').split('|')) == 2:\n",
    "                votes.append(first.find(class_=\"sort-num_votes-visible\").get_text().replace(\"\\n\",'').split('|')[0].split(':')[1])\n",
    "                gross.append(first.find(class_=\"sort-num_votes-visible\").get_text().replace(\"\\n\",'').split('|')[1].split(':')[1])\n",
    "            else:\n",
    "                votes.append(first.find(class_=\"sort-num_votes-visible\").get_text().replace(\"\\n\",'').split('|')[0].split(':')[1])\n",
    "                gross.append(None)\n",
    "\n",
    "        "
   ]
  },
  {
   "cell_type": "code",
   "execution_count": 32,
   "metadata": {},
   "outputs": [
    {
     "data": {
      "text/plain": [
       "(192, 192, 192, 192, 192)"
      ]
     },
     "execution_count": 32,
     "metadata": {},
     "output_type": "execute_result"
    }
   ],
   "source": [
    "len(names), len(ratings), len(metascores), len(votes), len(gross)"
   ]
  },
  {
   "cell_type": "code",
   "execution_count": 33,
   "metadata": {},
   "outputs": [
    {
     "data": {
      "text/html": [
       "<div>\n",
       "<style scoped>\n",
       "    .dataframe tbody tr th:only-of-type {\n",
       "        vertical-align: middle;\n",
       "    }\n",
       "\n",
       "    .dataframe tbody tr th {\n",
       "        vertical-align: top;\n",
       "    }\n",
       "\n",
       "    .dataframe thead th {\n",
       "        text-align: right;\n",
       "    }\n",
       "</style>\n",
       "<table border=\"1\" class=\"dataframe\">\n",
       "  <thead>\n",
       "    <tr style=\"text-align: right;\">\n",
       "      <th></th>\n",
       "      <th>name</th>\n",
       "      <th>rating</th>\n",
       "      <th>metascoe</th>\n",
       "      <th>votes</th>\n",
       "      <th>gross</th>\n",
       "    </tr>\n",
       "  </thead>\n",
       "  <tbody>\n",
       "    <tr>\n",
       "      <th>0</th>\n",
       "      <td>253.Mom and Dad(2017)</td>\n",
       "      <td>5.5</td>\n",
       "      <td>59</td>\n",
       "      <td>20,099</td>\n",
       "      <td>None</td>\n",
       "    </tr>\n",
       "    <tr>\n",
       "      <th>1</th>\n",
       "      <td>254.A Prayer Before Dawn(2017)</td>\n",
       "      <td>6.9</td>\n",
       "      <td>76</td>\n",
       "      <td>19,994</td>\n",
       "      <td>None</td>\n",
       "    </tr>\n",
       "    <tr>\n",
       "      <th>2</th>\n",
       "      <td>255.iBoy(2017)</td>\n",
       "      <td>6.0</td>\n",
       "      <td>50</td>\n",
       "      <td>19,825</td>\n",
       "      <td>None</td>\n",
       "    </tr>\n",
       "    <tr>\n",
       "      <th>3</th>\n",
       "      <td>256.The Little Hours(2017)</td>\n",
       "      <td>5.8</td>\n",
       "      <td>69</td>\n",
       "      <td>19,685</td>\n",
       "      <td>$1.65M</td>\n",
       "    </tr>\n",
       "    <tr>\n",
       "      <th>4</th>\n",
       "      <td>259.Marshall(2017)</td>\n",
       "      <td>7.2</td>\n",
       "      <td>66</td>\n",
       "      <td>19,484</td>\n",
       "      <td>$10.05M</td>\n",
       "    </tr>\n",
       "    <tr>\n",
       "      <th>...</th>\n",
       "      <td>...</td>\n",
       "      <td>...</td>\n",
       "      <td>...</td>\n",
       "      <td>...</td>\n",
       "      <td>...</td>\n",
       "    </tr>\n",
       "    <tr>\n",
       "      <th>187</th>\n",
       "      <td>294.Unicorn Store(2017)</td>\n",
       "      <td>5.5</td>\n",
       "      <td>44</td>\n",
       "      <td>16,988</td>\n",
       "      <td>None</td>\n",
       "    </tr>\n",
       "    <tr>\n",
       "      <th>188</th>\n",
       "      <td>297.Naked(I) (2017)</td>\n",
       "      <td>5.4</td>\n",
       "      <td>36</td>\n",
       "      <td>16,922</td>\n",
       "      <td>None</td>\n",
       "    </tr>\n",
       "    <tr>\n",
       "      <th>189</th>\n",
       "      <td>298.The Party(I) (2017)</td>\n",
       "      <td>6.6</td>\n",
       "      <td>73</td>\n",
       "      <td>16,604</td>\n",
       "      <td>$0.75M</td>\n",
       "    </tr>\n",
       "    <tr>\n",
       "      <th>190</th>\n",
       "      <td>299.One Cut of the Dead(2017)</td>\n",
       "      <td>7.7</td>\n",
       "      <td>86</td>\n",
       "      <td>16,538</td>\n",
       "      <td>None</td>\n",
       "    </tr>\n",
       "    <tr>\n",
       "      <th>191</th>\n",
       "      <td>300.Mayhem(2017)</td>\n",
       "      <td>6.4</td>\n",
       "      <td>62</td>\n",
       "      <td>16,359</td>\n",
       "      <td>None</td>\n",
       "    </tr>\n",
       "  </tbody>\n",
       "</table>\n",
       "<p>192 rows × 5 columns</p>\n",
       "</div>"
      ],
      "text/plain": [
       "                               name rating metascoe   votes    gross\n",
       "0             253.Mom and Dad(2017)    5.5       59  20,099     None\n",
       "1    254.A Prayer Before Dawn(2017)    6.9       76  19,994     None\n",
       "2                    255.iBoy(2017)    6.0       50  19,825     None\n",
       "3        256.The Little Hours(2017)    5.8       69  19,685   $1.65M\n",
       "4                259.Marshall(2017)    7.2       66  19,484  $10.05M\n",
       "..                              ...    ...      ...     ...      ...\n",
       "187         294.Unicorn Store(2017)    5.5       44  16,988     None\n",
       "188             297.Naked(I) (2017)    5.4       36  16,922     None\n",
       "189         298.The Party(I) (2017)    6.6       73  16,604   $0.75M\n",
       "190   299.One Cut of the Dead(2017)    7.7       86  16,538     None\n",
       "191                300.Mayhem(2017)    6.4       62  16,359     None\n",
       "\n",
       "[192 rows x 5 columns]"
      ]
     },
     "execution_count": 33,
     "metadata": {},
     "output_type": "execute_result"
    }
   ],
   "source": [
    "import pandas as pd\n",
    "\n",
    "d1 = {'name':names , 'rating':ratings, 'metascoe':metascores, 'votes':votes, 'gross':gross}\n",
    "df = pd.DataFrame(d1)\n",
    "df\n"
   ]
  },
  {
   "cell_type": "code",
   "execution_count": 35,
   "metadata": {},
   "outputs": [],
   "source": [
    "df.to_csv(\"imdb_300Movies.csv\", sep=\"|\" , index=True)"
   ]
  },
  {
   "cell_type": "code",
   "execution_count": null,
   "metadata": {},
   "outputs": [],
   "source": []
  }
 ],
 "metadata": {
  "kernelspec": {
   "display_name": "Python 3",
   "language": "python",
   "name": "python3"
  },
  "language_info": {
   "codemirror_mode": {
    "name": "ipython",
    "version": 3
   },
   "file_extension": ".py",
   "mimetype": "text/x-python",
   "name": "python",
   "nbconvert_exporter": "python",
   "pygments_lexer": "ipython3",
   "version": "3.7.6"
  }
 },
 "nbformat": 4,
 "nbformat_minor": 4
}
